{
 "cells": [
  {
   "cell_type": "code",
   "execution_count": 1,
   "metadata": {},
   "outputs": [
    {
     "name": "stdout",
     "output_type": "stream",
     "text": [
      "hello\n"
     ]
    }
   ],
   "source": [
    "print(\"hello\")"
   ]
  },
  {
   "cell_type": "code",
   "execution_count": 2,
   "metadata": {},
   "outputs": [],
   "source": [
    "import csv\n",
    "csv_file= r\"C:\\Users\\Yatharth\\Desktop\\desktop1\\AI\\ML_proj\\infinite-gpt\\combined_haiku.csv\"\n",
    "txt_file=r\"C:\\Users\\Yatharth\\Desktop\\desktop1\\AI\\ML_proj\\infinite-gpt\\utf-encoder.txt\"\n",
    "text_list = []\n",
    "\n",
    "with open(csv_file, \"r\") as my_input_file:\n",
    "    my_input_file.__next__()\n",
    "    for line in my_input_file:\n",
    "\n",
    "        line = line.split(\",\", 2)\n",
    "        text_list.append(\" \".join(line[1:]))\n",
    "\n",
    "\n",
    "with open(txt_file, \"a\") as my_output_file:\n",
    "    for line in text_list:\n",
    "        my_output_file.write(line)"
   ]
  },
  {
   "cell_type": "code",
   "execution_count": 4,
   "metadata": {},
   "outputs": [],
   "source": [
    "import pandas as pd\n",
    "\n",
    "# Path to the text file you want to convert to CSV\n",
    "input_text_file_path = r\"C:\\Users\\Yatharth\\Desktop\\desktop1\\AI\\ML_proj\\infinite-gpt\\utf-encoder.txt\"\n",
    "# Path where the CSV file will be saved\n",
    "output_csv_file_path = 'combined_file_new.csv'\n",
    "\n",
    "# Read the lines from the text file\n",
    "with open(input_text_file_path, 'r', encoding='utf-8', errors='replace') as file:\n",
    "    lines = file.readlines()\n",
    "\n",
    "# Clean the lines and create a DataFrame\n",
    "lines_cleaned = [line.strip() for line in lines if line.strip()]\n",
    "df = pd.DataFrame(lines_cleaned, columns=['Text'])\n",
    "\n",
    "# Save the DataFrame to a CSV file\n",
    "df.to_csv(output_csv_file_path, index=False, encoding='utf-8')\n"
   ]
  },
  {
   "cell_type": "code",
   "execution_count": 6,
   "metadata": {},
   "outputs": [
    {
     "ename": "FileNotFoundError",
     "evalue": "[Errno 2] No such file or directory: 'C:\\\\Users\\\\Yatharth\\\\Desktop\\\\desktop1\\\\AI_ML_proj\\\\infinite-gpt\\\\combined_haiku.csv'",
     "output_type": "error",
     "traceback": [
      "\u001b[1;31m---------------------------------------------------------------------------\u001b[0m",
      "\u001b[1;31mFileNotFoundError\u001b[0m                         Traceback (most recent call last)",
      "Cell \u001b[1;32mIn[6], line 8\u001b[0m\n\u001b[0;32m      5\u001b[0m errors_file \u001b[38;5;241m=\u001b[39m \u001b[38;5;124mr\u001b[39m\u001b[38;5;124m\"\u001b[39m\u001b[38;5;124mC:\u001b[39m\u001b[38;5;124m\\\u001b[39m\u001b[38;5;124mUsers\u001b[39m\u001b[38;5;124m\\\u001b[39m\u001b[38;5;124mYatharth\u001b[39m\u001b[38;5;124m\\\u001b[39m\u001b[38;5;124mDesktop\u001b[39m\u001b[38;5;124m\\\u001b[39m\u001b[38;5;124mdesktop1\u001b[39m\u001b[38;5;124m\\\u001b[39m\u001b[38;5;124mAI_ML_proj\u001b[39m\u001b[38;5;124m\\\u001b[39m\u001b[38;5;124minfinite-gpt\u001b[39m\u001b[38;5;124m\\\u001b[39m\u001b[38;5;124merrors.log\u001b[39m\u001b[38;5;124m\"\u001b[39m\n\u001b[0;32m      7\u001b[0m \u001b[38;5;66;03m# Open the CSV file and read lines\u001b[39;00m\n\u001b[1;32m----> 8\u001b[0m \u001b[38;5;28;01mwith\u001b[39;00m \u001b[38;5;28;43mopen\u001b[39;49m\u001b[43m(\u001b[49m\u001b[43mcsv_file\u001b[49m\u001b[43m,\u001b[49m\u001b[43m \u001b[49m\u001b[38;5;124;43m\"\u001b[39;49m\u001b[38;5;124;43mr\u001b[39;49m\u001b[38;5;124;43m\"\u001b[39;49m\u001b[43m,\u001b[49m\u001b[43m \u001b[49m\u001b[43mnewline\u001b[49m\u001b[38;5;241;43m=\u001b[39;49m\u001b[38;5;124;43m'\u001b[39;49m\u001b[38;5;124;43m'\u001b[39;49m\u001b[43m,\u001b[49m\u001b[43m \u001b[49m\u001b[43mencoding\u001b[49m\u001b[38;5;241;43m=\u001b[39;49m\u001b[38;5;124;43m'\u001b[39;49m\u001b[38;5;124;43mutf-8\u001b[39;49m\u001b[38;5;124;43m'\u001b[39;49m\u001b[43m)\u001b[49m \u001b[38;5;28;01mas\u001b[39;00m my_input_file, \\\n\u001b[0;32m      9\u001b[0m      \u001b[38;5;28mopen\u001b[39m(txt_file, \u001b[38;5;124m\"\u001b[39m\u001b[38;5;124mw\u001b[39m\u001b[38;5;124m\"\u001b[39m, encoding\u001b[38;5;241m=\u001b[39m\u001b[38;5;124m'\u001b[39m\u001b[38;5;124mutf-8\u001b[39m\u001b[38;5;124m'\u001b[39m) \u001b[38;5;28;01mas\u001b[39;00m my_output_file, \\\n\u001b[0;32m     10\u001b[0m      \u001b[38;5;28mopen\u001b[39m(errors_file, \u001b[38;5;124m\"\u001b[39m\u001b[38;5;124mw\u001b[39m\u001b[38;5;124m\"\u001b[39m, encoding\u001b[38;5;241m=\u001b[39m\u001b[38;5;124m'\u001b[39m\u001b[38;5;124mutf-8\u001b[39m\u001b[38;5;124m'\u001b[39m) \u001b[38;5;28;01mas\u001b[39;00m error_log:\n\u001b[0;32m     12\u001b[0m     reader \u001b[38;5;241m=\u001b[39m csv\u001b[38;5;241m.\u001b[39mreader(my_input_file)\n\u001b[0;32m     13\u001b[0m     \u001b[38;5;28;01mfor\u001b[39;00m row_number, row \u001b[38;5;129;01min\u001b[39;00m \u001b[38;5;28menumerate\u001b[39m(reader, start\u001b[38;5;241m=\u001b[39m\u001b[38;5;241m1\u001b[39m):\n",
      "File \u001b[1;32mc:\\python11\\Lib\\site-packages\\IPython\\core\\interactiveshell.py:310\u001b[0m, in \u001b[0;36m_modified_open\u001b[1;34m(file, *args, **kwargs)\u001b[0m\n\u001b[0;32m    303\u001b[0m \u001b[38;5;28;01mif\u001b[39;00m file \u001b[38;5;129;01min\u001b[39;00m {\u001b[38;5;241m0\u001b[39m, \u001b[38;5;241m1\u001b[39m, \u001b[38;5;241m2\u001b[39m}:\n\u001b[0;32m    304\u001b[0m     \u001b[38;5;28;01mraise\u001b[39;00m \u001b[38;5;167;01mValueError\u001b[39;00m(\n\u001b[0;32m    305\u001b[0m         \u001b[38;5;124mf\u001b[39m\u001b[38;5;124m\"\u001b[39m\u001b[38;5;124mIPython won\u001b[39m\u001b[38;5;124m'\u001b[39m\u001b[38;5;124mt let you open fd=\u001b[39m\u001b[38;5;132;01m{\u001b[39;00mfile\u001b[38;5;132;01m}\u001b[39;00m\u001b[38;5;124m by default \u001b[39m\u001b[38;5;124m\"\u001b[39m\n\u001b[0;32m    306\u001b[0m         \u001b[38;5;124m\"\u001b[39m\u001b[38;5;124mas it is likely to crash IPython. If you know what you are doing, \u001b[39m\u001b[38;5;124m\"\u001b[39m\n\u001b[0;32m    307\u001b[0m         \u001b[38;5;124m\"\u001b[39m\u001b[38;5;124myou can use builtins\u001b[39m\u001b[38;5;124m'\u001b[39m\u001b[38;5;124m open.\u001b[39m\u001b[38;5;124m\"\u001b[39m\n\u001b[0;32m    308\u001b[0m     )\n\u001b[1;32m--> 310\u001b[0m \u001b[38;5;28;01mreturn\u001b[39;00m \u001b[43mio_open\u001b[49m\u001b[43m(\u001b[49m\u001b[43mfile\u001b[49m\u001b[43m,\u001b[49m\u001b[43m \u001b[49m\u001b[38;5;241;43m*\u001b[39;49m\u001b[43margs\u001b[49m\u001b[43m,\u001b[49m\u001b[43m \u001b[49m\u001b[38;5;241;43m*\u001b[39;49m\u001b[38;5;241;43m*\u001b[39;49m\u001b[43mkwargs\u001b[49m\u001b[43m)\u001b[49m\n",
      "\u001b[1;31mFileNotFoundError\u001b[0m: [Errno 2] No such file or directory: 'C:\\\\Users\\\\Yatharth\\\\Desktop\\\\desktop1\\\\AI_ML_proj\\\\infinite-gpt\\\\combined_haiku.csv'"
     ]
    }
   ],
   "source": [
    "import csv\n",
    "\n",
    "csv_file = r\"C:\\Users\\Yatharth\\Desktop\\desktop1\\AI_ML_proj\\infinite-gpt\\combined_haiku.csv\"\n",
    "txt_file = r\"C:\\Users\\Yatharth\\Desktop\\desktop1\\AI_ML_proj\\infinite-gpt\\utf-encoder.txt\"\n",
    "errors_file = r\"C:\\Users\\Yatharth\\Desktop\\desktop1\\AI_ML_proj\\infinite-gpt\\errors.log\"\n",
    "\n",
    "# Open the CSV file and read lines\n",
    "with open(csv_file, \"r\", newline='', encoding='utf-8') as my_input_file, \\\n",
    "     open(txt_file, \"w\", encoding='utf-8') as my_output_file, \\\n",
    "     open(errors_file, \"w\", encoding='utf-8') as error_log:\n",
    "\n",
    "    reader = csv.reader(my_input_file)\n",
    "    for row_number, row in enumerate(reader, start=1):\n",
    "        try:\n",
    "            combined_row = ' '.join(row)\n",
    "            my_output_file.write(combined_row + '\\n')\n",
    "        except Exception as e:\n",
    "            error_message = f\"Failed to write row {row_number}: {e}\\n\"\n",
    "            error_log.write(error_message)\n",
    "\n"
   ]
  }
 ],
 "metadata": {
  "kernelspec": {
   "display_name": "Python 3",
   "language": "python",
   "name": "python3"
  },
  "language_info": {
   "codemirror_mode": {
    "name": "ipython",
    "version": 3
   },
   "file_extension": ".py",
   "mimetype": "text/x-python",
   "name": "python",
   "nbconvert_exporter": "python",
   "pygments_lexer": "ipython3",
   "version": "3.11.7"
  }
 },
 "nbformat": 4,
 "nbformat_minor": 2
}
